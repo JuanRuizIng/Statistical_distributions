{
 "cells": [
  {
   "cell_type": "markdown",
   "metadata": {},
   "source": [
    "# **Libraries**"
   ]
  },
  {
   "cell_type": "code",
   "execution_count": 6,
   "metadata": {},
   "outputs": [],
   "source": [
    "from scipy import stats"
   ]
  },
  {
   "cell_type": "markdown",
   "metadata": {},
   "source": [
    "# **Problem 1.**"
   ]
  },
  {
   "cell_type": "code",
   "execution_count": 1,
   "metadata": {},
   "outputs": [
    {
     "name": "stdout",
     "output_type": "stream",
     "text": [
      "hola mundo\n"
     ]
    }
   ],
   "source": [
    "print(\"hola mundo\")"
   ]
  },
  {
   "cell_type": "markdown",
   "metadata": {},
   "source": [
    "# **Problem 2.**"
   ]
  },
  {
   "cell_type": "markdown",
   "metadata": {},
   "source": [
    "### *Suponga un sistema de almacenamiento de datos en la nube utilizado por una gran empresa de comercio electrónico. Este sistema recibe y procesa continuamente transacciones de ventas de múltiples puntos de venta en línea. El tiempo entre llegadas de transacciones tiene promedio de 20 transacciones por minuto. La eficiencia del sistema y la velocidad de las consultas dependen en gran medida de la gestión de estos tiempos entre llegadas.*"
   ]
  },
  {
   "cell_type": "code",
   "execution_count": 7,
   "metadata": {},
   "outputs": [],
   "source": [
    "lambda_scale = 20/60"
   ]
  },
  {
   "cell_type": "markdown",
   "metadata": {},
   "source": [
    "Lo anterior es la división de 20 (que es el promedio de transacciones*minuto) dividido entre 60 (para convertir el resultado en escala a segundos como exigen las respuesta de los ejercicios)"
   ]
  },
  {
   "cell_type": "markdown",
   "metadata": {},
   "source": [
    "#### *a. Probabilidad de que el tiempo entre dos transacciones consecutivas sea menor o igual a 2 segundos.*"
   ]
  },
  {
   "cell_type": "code",
   "execution_count": 19,
   "metadata": {},
   "outputs": [
    {
     "name": "stdout",
     "output_type": "stream",
     "text": [
      "P(X<=2/60) = 0.486582880967408\n"
     ]
    }
   ],
   "source": [
    "t1 = 2\n",
    "prob_a = stats.expon.cdf(t1, scale=1/lambda_scale)\n",
    "print(f'P(X<=2/60) = {prob_a}')"
   ]
  },
  {
   "cell_type": "markdown",
   "metadata": {},
   "source": [
    "Vemos que la probabilidad de que el tiempo entre dos transacciones consecutivas sea menor o igual a dos segundos es algo probable como algo no probable. Es decir, casi que se encuentra en 50/50, por lo que podríamos considerar que puede ser probable que suceda casi a la misma posibilidad de que no suceda. Esto nos puede dar un indicio de que es probable que el tiempo entre dos transacciones consecutivas puede durar más de 3 segundos con casi la misma probabilidad con la que puede durar menos (o igual) de 2 segundos. Para el negocio se podría proponer un analisis de más tiempo (en segundos), para mejorar la precisión del estudio por ejemplo."
   ]
  },
  {
   "cell_type": "markdown",
   "metadata": {},
   "source": [
    "#### *b. ¿Cuál es la probabilidad de que el tiempo entre dos transacciones consecutivas sea mayor a 10 segundos?*"
   ]
  },
  {
   "cell_type": "code",
   "execution_count": 20,
   "metadata": {},
   "outputs": [
    {
     "name": "stdout",
     "output_type": "stream",
     "text": [
      "P(X>10/60) = 0.03567399334725241\n"
     ]
    }
   ],
   "source": [
    "t2 = 10\n",
    "prob_b = 1 - stats.expon.cdf(t2, scale=1/lambda_scale)\n",
    "print(f'P(X>10/60) = {prob_b}')"
   ]
  },
  {
   "cell_type": "markdown",
   "metadata": {},
   "source": [
    "Vemos que la probabilidad de que el tiempo entre dos transacciones consecutivas sea mayor que 10 segundos, es de la forma e^(-lambda*x), sin embargo, se debe realizar de la anterior forma por la librería, cambiando P(X>x) por P(X<x), por ende quedaría de la forma 1 - e^(-lambda*x). Siguiendo esta lógica vemos porque lo anterior podría ser de las dos formas, pero seguimos la segunda forma por la librería "
   ]
  },
  {
   "cell_type": "markdown",
   "metadata": {},
   "source": [
    "Vemos también que la probabilidad de que el tiempo entre dos transacciones consecutivas sea mayor que 10 segundos es muy baja, lo que quiere decir que es más probable que sean más rápidas dos transacciones entre ellas, al ser posiblemente el mejor caso para el negocio que sea menor el tiempo entre transacciones, es decir, que se demoren menos de 10 segundos con mayor probabilidad, afectandolo de forma positiva."
   ]
  },
  {
   "cell_type": "markdown",
   "metadata": {},
   "source": [
    "#### *c. Si el sistema necesita realizar un respaldo rápido que toma exactamente 30 segundos, ¿cuál es la probabilidad de que no llegue ninguna transacción durante este período de respaldo?*"
   ]
  },
  {
   "cell_type": "code",
   "execution_count": 28,
   "metadata": {},
   "outputs": [
    {
     "name": "stdout",
     "output_type": "stream",
     "text": [
      "P(X=0) = 4.5399929762484854e-05\n"
     ]
    }
   ],
   "source": [
    "t3 = 30\n",
    "prob_c = stats.poisson.pmf(0, lambda_scale * t3)\n",
    "print(f'P(X=0) = {prob_c}')\n"
   ]
  },
  {
   "cell_type": "markdown",
   "metadata": {},
   "source": [
    "Recordemos que al tomar un evento en un intervalo de tiempo estaremos hablando de una PMF de la distribución de Poisson. Dejamos de usar una distribución exponencial, pues no tenemos en este punto sucesos consecutivos (dos *transacciones* entre sí), sino solo un suceso (ninguna *transacción*)"
   ]
  },
  {
   "cell_type": "markdown",
   "metadata": {},
   "source": [
    "Vemos que la probabilidad de que, si el sistema necesita realizar un respaldo rápido que toma exactamente 30 segundos, la probabilidad de que no llegue ninguna transacción durante este período de respaldo es extremadamente baja. Lo que puede significar que el sistema se comporta de una excelente manera, pues la posibilidad de que quede no llegue ninguna transacción es muy baja, por lo que no deberíamos preocuparnos si se nos van a perder transacciones al realizar el respaldo rápido por ejemplo, si simulamos esa aplicación. "
   ]
  },
  {
   "cell_type": "markdown",
   "metadata": {},
   "source": [
    "#### *d. ¿Cuál es el tiempo esperado entre dos transacciones consecutivas?*"
   ]
  },
  {
   "cell_type": "code",
   "execution_count": 25,
   "metadata": {},
   "outputs": [
    {
     "name": "stdout",
     "output_type": "stream",
     "text": [
      "E(X) = 3.0\n"
     ]
    }
   ],
   "source": [
    "E_x = 1/lambda_scale\n",
    "print(f'E(X) = {E_x}')"
   ]
  },
  {
   "cell_type": "markdown",
   "metadata": {},
   "source": [
    "Recordemos que para hallar el tiempo esperado (E(X)) en una distribución exponencial, es de la forma 1/lambda o 'encontrar el inverso de lambda', donde lambda es el promedio de 20 transacciones por minuto, es decir, 20, y se transforma como 20/60 para convertir los minutos en segundos."
   ]
  },
  {
   "cell_type": "markdown",
   "metadata": {},
   "source": [
    "Lo anterior nos quiere decir que una vez llega una transacción, se espera que la otra llegue en 3 segundos, lo que podría significar que la llegada de transacciones que maneja el sistema es algo 'rápido', tomando como referencia por ejemplo, si lo estuvieramos comparando con llegadas de transacciones consecutivas de 30 o 60 segundos. Depende del negocio"
   ]
  },
  {
   "cell_type": "markdown",
   "metadata": {},
   "source": [
    "#### *e. Si el sistema está diseñado para manejar ráfagas de datos, ¿cuál es la probabilidad de que ocurran al menos 5 transacciones en un intervalo de 10 segundos*"
   ]
  },
  {
   "cell_type": "code",
   "execution_count": 27,
   "metadata": {},
   "outputs": [
    {
     "name": "stdout",
     "output_type": "stream",
     "text": [
      "P(X>=5) = 0.24350581185847064\n"
     ]
    }
   ],
   "source": [
    "t4 = 10\n",
    "k = 5\n",
    "prob_e = 1 - stats.poisson.cdf(k - 1, lambda_scale * t4)\n",
    "print(f'P(X>=5) = {prob_e}')"
   ]
  },
  {
   "cell_type": "markdown",
   "metadata": {},
   "source": [
    "Debemos encontrar 1 - P(X<5) o, lo que es lo mismo, 1 - P(X<=5-1) aplicando una CDF para una variable discreta X. Una explicación sencilla para usar una CDF de la distribución de Poisson es al encontrar P(X>=5) (al menos *5 transacciones*, pueden ser más) (no eventos consecutivos, sino eventos), entonces debemos encontrar la suma de P(X=0) hasta P(X=5) y a continuación restar 1 por el resultado, es decir, 1 - (P(X=0)+P(X=1)+P(X=2)+P(X=3)+P(X=4)+P(X=5)). Eso es lo que realizamos con la librería"
   ]
  },
  {
   "cell_type": "markdown",
   "metadata": {},
   "source": [
    "Podemos observar del resultado que, la probabilidad de que le lleguen al sistema 5 transacciones en un intervalo de 10 segundos es algo baja, quiere decir, que es poco probable que lleguen 5 transacciones al sistema en ese intervalo de tiempo, lo que podría sugerir que pueden llegar muchas más transacciones en menos de 10 segundos, lo que podría significarle al negocio buenas noticias, pues entre las transacciones lleguen en menor tiempo, significa que pueden tener más transacciones que si llegan en mayor tiempo."
   ]
  },
  {
   "cell_type": "markdown",
   "metadata": {},
   "source": [
    "# **Problem 3.**"
   ]
  },
  {
   "cell_type": "code",
   "execution_count": null,
   "metadata": {},
   "outputs": [],
   "source": [
    "print(\"hola mundo\")"
   ]
  },
  {
   "cell_type": "markdown",
   "metadata": {},
   "source": [
    "# **Problem 4.**"
   ]
  },
  {
   "cell_type": "code",
   "execution_count": null,
   "metadata": {},
   "outputs": [],
   "source": [
    "print(\"hola mundo\")"
   ]
  }
 ],
 "metadata": {
  "kernelspec": {
   "display_name": "venv",
   "language": "python",
   "name": "python3"
  },
  "language_info": {
   "codemirror_mode": {
    "name": "ipython",
    "version": 3
   },
   "file_extension": ".py",
   "mimetype": "text/x-python",
   "name": "python",
   "nbconvert_exporter": "python",
   "pygments_lexer": "ipython3",
   "version": "3.12.5"
  }
 },
 "nbformat": 4,
 "nbformat_minor": 2
}
